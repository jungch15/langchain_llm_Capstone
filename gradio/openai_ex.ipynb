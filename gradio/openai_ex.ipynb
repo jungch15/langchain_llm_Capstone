{
 "cells": [
  {
   "cell_type": "code",
   "execution_count": null,
   "metadata": {},
   "outputs": [],
   "source": [
    "# %pip install gradio"
   ]
  },
  {
   "cell_type": "code",
   "execution_count": null,
   "metadata": {},
   "outputs": [],
   "source": [
    "from langchain.chat_models import ChatOpenAI\n",
    "from langchain.schema import AIMessage, HumanMessage, SystemMessage\n",
    "import gradio as gr\n",
    "import os\n",
    "\n",
    "os.envrion[\"OPENAI_API_KEY\"] = \"...\" \n",
    "\n",
    "llm = ChatOpenAI(temperature=1.0, model='gpt-3.5-turbo-0613')\n",
    "\n",
    "def response(message, history, additional_input_info):\n",
    "        history_langchain_format = []\n",
    "        # additional_input_info로 받은 시스템 프롬프트를 랭체인에게 전달할 메시지에 포함시킨다.\n",
    "        history_langchain_format.append(SystemMessage(content= additional_input_info))\n",
    "        for human, ai in history:\n",
    "                history_langchain_format.append(HumanMessage(content=human))\n",
    "                history_langchain_format.append(AIMessage(content=ai))\n",
    "        history_langchain_format.append(HumanMessage(content=message))\n",
    "        gpt_response = llm(history_langchain_format)\n",
    "        return gpt_response.content\n",
    "\n",
    "gr.ChatInterface(\n",
    "        fn=response,\n",
    "        textbox=gr.Textbox(placeholder=\"입력\", container=False, scale=7),\n",
    "        # 채팅창의 크기를 조절한다.\n",
    "        chatbot=gr.Chatbot(height=500),\n",
    "        title=\"|| 챗봇\",\n",
    "        description=\"챗봇입니다.\",\n",
    "        theme=\"soft\",\n",
    "        examples=[[\"안녕하세요\"], [\"손흥민이 누구야\"], [\"박지성이 누구야\"]],\n",
    "        retry_btn=\"다시보내기 ↩\",\n",
    "        undo_btn=\"이전챗 삭제 ❌\",\n",
    "        clear_btn=\"전챗 삭제 💫\",\n",
    "        additional_inputs=[\n",
    "            gr.Textbox(\"\", label=\"System Prompt를 입력해주세요\", placeholder='설명해줄게요')\n",
    "        ]\n",
    ").launch()"
   ]
  },
  {
   "cell_type": "code",
   "execution_count": null,
   "metadata": {},
   "outputs": [],
   "source": []
  }
 ],
 "metadata": {
  "language_info": {
   "name": "python"
  }
 },
 "nbformat": 4,
 "nbformat_minor": 2
}
