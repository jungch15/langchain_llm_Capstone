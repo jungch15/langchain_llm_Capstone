{
 "cells": [
  {
   "cell_type": "code",
   "execution_count": null,
   "metadata": {},
   "outputs": [],
   "source": [
    "from langchain.document_loaders import PyPDFLoader\n",
    "from langchain.vectorstores import Chroma\n",
    "from langchain.text_splitter import RecursiveCharacterTextSplitter\n",
    "from langchain.chains import RetrievalQA, ConversationalRetrievalChain\n",
    "from langchain_community.llms import HuggingFaceEndpoint\n",
    "from langchain_community.embeddings import (\n",
    "    HuggingFaceEmbeddings,\n",
    "    HuggingFaceBgeEmbeddings,\n",
    ")\n",
    "from langchain_community.document_loaders import Docx2txtLoader\n",
    "from collections import defaultdict\n",
    "from docx import Document\n",
    "from pdf2docx import parse\n",
    "from docx2pdf import convert\n"
   ]
  },
  {
   "cell_type": "code",
   "execution_count": null,
   "metadata": {},
   "outputs": [],
   "source": [
    "# 파일 리스트\n",
    "files = ['real_data_ex.pdf']\n",
    "\n",
    "# 취소선이 있는 텍스트 저장 리스트\n",
    "result = []\n",
    "\n",
    "for file_path in files:\n",
    "    # PDF를 DOCX로 변환\n",
    "    docx_path = parse(file_path)\n",
    "# 워드 파일 경로 지정\n",
    "docx_path = \"real_data_ex.docx\"\n",
    "\n",
    "# Document 객체 생성\n",
    "doc = Document(docx_path)\n",
    "\n",
    "\n",
    "pre_text = defaultdict()\n",
    "# 표 내의 취소선이 있는 텍스트 추출\n",
    "for table in doc.tables:\n",
    "    for row in table.rows:\n",
    "        for cell in row.cells:\n",
    "            # 셀 내의 각 텍스트에 대해 취소선 여부 확인\n",
    "            for paragraph in cell.paragraphs:\n",
    "                for run in paragraph.runs:\n",
    "                    if not run.font.strike and run.text not in pre_text.keys():\n",
    "                        pre_text[run.text] = 1\n",
    "                        result.append(run.text)\n",
    "                        \n",
    "print(result)\n",
    "# 1. 띄어쓰기로 연결하고, .을 기준으로 split한다.\n",
    "# 2. 그냥 연결하고, .을 기준으로 split한다. - 상  호, 본  점 이런식으로 된건 다 잘린다. 기각 \n",
    "# 3. word에서 취소선 내용 삭제 저장 후 텍스트 뽑기 or pdf 변환 후 뽑기"
   ]
  },
  {
   "cell_type": "code",
   "execution_count": null,
   "metadata": {},
   "outputs": [],
   "source": [
    "# docx파일로 진행하면\n",
    "loader = Docx2txtLoader(\"real_data_ex.docx\")\n",
    "text_splitter = RecursiveCharacterTextSplitter(\n",
    "    chunk_size=1000,\n",
    "    chunk_overlap=200\n",
    "    )\n",
    "\n",
    "pages = loader.load_and_split(text_splitter)\n",
    "pages"
   ]
  },
  {
   "cell_type": "code",
   "execution_count": null,
   "metadata": {},
   "outputs": [],
   "source": [
    "# pdf로 다시 변환하고 진행한다면\n",
    "# 워드 파일 경로 지정\n",
    "docx_path = \"real_data_ex.docx\"\n",
    "\n",
    "# 워드 파일을 PDF로 변환\n",
    "convert(docx_path, 'asdf.pdf')\n",
    "\n",
    "loader = PyPDFLoader(\"real_data_ex.pdf\")\n",
    "text_splitter = RecursiveCharacterTextSplitter(\n",
    "    chunk_size=1000,\n",
    "    chunk_overlap=200\n",
    "    )\n",
    "\n",
    "pages = loader.load_and_split(text_splitter)\n",
    "pages"
   ]
  }
 ],
 "metadata": {
  "language_info": {
   "name": "python"
  }
 },
 "nbformat": 4,
 "nbformat_minor": 2
}
