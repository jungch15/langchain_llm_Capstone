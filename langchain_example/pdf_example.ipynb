{
 "cells": [
  {
   "cell_type": "code",
   "execution_count": null,
   "metadata": {},
   "outputs": [],
   "source": [
    "# # 필요한 라이브러리 설치\n",
    "# !pip install langchain\n",
    "# !pip install huggingface_hub transformers datasets\n",
    "# !pip install python-dotenv\n",
    "# !pip install pypdf\n",
    "# !pip install sentence-transformers\n",
    "# !pip install chromadb\n",
    "# pdf2docx, docx2pdf, docx2txt"
   ]
  },
  {
   "cell_type": "code",
   "execution_count": null,
   "metadata": {},
   "outputs": [],
   "source": [
    "from langchain_community.llms import HuggingFaceEndpoint\n",
    "from huggingface_hub import login\n",
    "from dotenv import load_dotenv\n",
    "import os\n",
    "\n",
    "# API KEY 정보로드\n",
    "load_dotenv()\n",
    "os.getenv('HUGGINGFACEHUB_API_TOKEN')\n",
    "\n",
    "# login()"
   ]
  },
  {
   "cell_type": "code",
   "execution_count": null,
   "metadata": {},
   "outputs": [],
   "source": [
    "os.environ['HUGGINGFACEHUB_API_TOKEN']"
   ]
  },
  {
   "cell_type": "markdown",
   "metadata": {},
   "source": [
    "# pdf 정보 추출"
   ]
  },
  {
   "cell_type": "code",
   "execution_count": 70,
   "metadata": {},
   "outputs": [],
   "source": [
    "from langchain.document_loaders import PyPDFLoader\n",
    "from langchain.vectorstores import Chroma\n",
    "from langchain_community.llms import HuggingFaceEndpoint\n",
    "from langchain.text_splitter import RecursiveCharacterTextSplitter\n",
    "from langchain.chains import RetrievalQA, ConversationalRetrievalChain\n",
    "from langchain_community.embeddings import (\n",
    "    HuggingFaceEmbeddings,\n",
    "    HuggingFaceBgeEmbeddings,\n",
    ")\n"
   ]
  },
  {
   "cell_type": "code",
   "execution_count": null,
   "metadata": {},
   "outputs": [],
   "source": [
    "loader = PyPDFLoader(\"real_data_ex.pdf\")\n",
    "\n",
    "text_splitter = RecursiveCharacterTextSplitter(\n",
    "    chunk_size=1000,\n",
    "    chunk_overlap=200\n",
    "    )\n",
    "\n",
    "pages = loader.load_and_split(text_splitter)"
   ]
  },
  {
   "cell_type": "code",
   "execution_count": null,
   "metadata": {},
   "outputs": [],
   "source": [
    "directory = 'index_store'\n",
    "vector_index = Chroma.from_documents(\n",
    "    pages, # Documents\n",
    "    HuggingFaceEmbeddings(), # Text embedding model\n",
    "    persist_directory=directory # persists the vectors to the file system\n",
    "    )\n",
    "vector_index.persist()"
   ]
  },
  {
   "cell_type": "code",
   "execution_count": 79,
   "metadata": {},
   "outputs": [],
   "source": [
    "retriever = vector_index.as_retriever(\n",
    "    search_type=\"similarity\", # Cosine Similarity\n",
    "    search_kwargs={\n",
    "        \"k\": 5, # Select top k search results\n",
    "    } \n",
    ")"
   ]
  },
  {
   "cell_type": "code",
   "execution_count": null,
   "metadata": {},
   "outputs": [],
   "source": [
    "retriever.get_relevant_documents(\"회사이름이 뭐지?\")"
   ]
  },
  {
   "cell_type": "code",
   "execution_count": null,
   "metadata": {},
   "outputs": [],
   "source": [
    "repo_id = \"mistralai/Mixtral-8x7B-Instruct-v0.1\"\n",
    "# repo_id = \"chihoonlee10/T3Q-ko-solar-dpo-v1.0\"\n",
    "# repo_id = \"google/gemma-7b\"\n",
    "# repo_id = 'google/flan-t5-xxl'\n",
    "\n",
    "llm = HuggingFaceEndpoint(\n",
    "    repo_id=repo_id, \n",
    "    # max_new_tokens=256,  \n",
    "    temperature=0.1, \n",
    "    callbacks=[StreamingStdOutCallbackHandler()], \n",
    "    streaming=True,  \n",
    ")\n",
    "\n",
    "qa_chain = RetrievalQA.from_chain_type(\n",
    "    llm=llm, \n",
    "    chain_type=\"stuff\", \n",
    "    retriever=retriever,\n",
    "    return_source_documents=True\n",
    ")"
   ]
  },
  {
   "cell_type": "code",
   "execution_count": null,
   "metadata": {},
   "outputs": [],
   "source": [
    "qa_chain.invoke(\"2차전형은 뭐가 있지\")"
   ]
  },
  {
   "cell_type": "markdown",
   "metadata": {},
   "source": [
    "## 다른 pdf 파일을 로딩하고 임베딩으로 변환하여 Vector DB에 추가하기\n"
   ]
  },
  {
   "cell_type": "code",
   "execution_count": 47,
   "metadata": {},
   "outputs": [],
   "source": [
    "loader = PyPDFLoader(\"example.pdf\")\n",
    "\n",
    "pages_new = loader.load_and_split(text_splitter)\n",
    "\n",
    "_ = vector_index.add_documents(pages_new)\n",
    "\n",
    "# Create a persistent, file-based vector store, using Chroma vector store.\n",
    "vector_index.persist()"
   ]
  },
  {
   "cell_type": "code",
   "execution_count": null,
   "metadata": {},
   "outputs": [],
   "source": [
    "# Query the pdf file\n",
    "# 새로 추가하고 난 질문\n",
    "qa_chain.invoke(\"2차전형은 뭐가 있지\")"
   ]
  },
  {
   "cell_type": "code",
   "execution_count": 49,
   "metadata": {},
   "outputs": [],
   "source": [
    "## Adding memory to conversations\n",
    "# Instead of the RetrievalQA chain, use the ConversationalRetrievalChain. \n",
    "# ConversationalRetrievalChain allows to seamlessly add historical context or memory to chain. - 과거 채팅도 이용\n",
    "conv_chain = ConversationalRetrievalChain.from_llm(\n",
    "    llm, \n",
    "    retriever=retriever,\n",
    ")"
   ]
  },
  {
   "cell_type": "code",
   "execution_count": null,
   "metadata": {},
   "outputs": [],
   "source": [
    "# Initialize our chat history. \n",
    "# chat history\n",
    "chat_history = []\n",
    "query = \"어떤 공고지?\"\n",
    "result = conv_chain.invoke({\"question\": query, \"chat_history\": chat_history})\n",
    "\n",
    "print(result[\"answer\"])\n",
    "chat_history.append((query, result[\"answer\"]))"
   ]
  },
  {
   "cell_type": "code",
   "execution_count": null,
   "metadata": {},
   "outputs": [],
   "source": [
    "query = \"이 공고 한국어로 요약좀 해줘\"\n",
    "result = conv_chain.invoke({\"question\": query, \"chat_history\": chat_history})\n",
    "\n",
    "# print(result[\"answer\"])"
   ]
  },
  {
   "cell_type": "code",
   "execution_count": null,
   "metadata": {},
   "outputs": [],
   "source": [
    "# chat history\n",
    "chat_history.append((query, result[\"answer\"]))\n",
    "chat_history"
   ]
  },
  {
   "cell_type": "code",
   "execution_count": null,
   "metadata": {},
   "outputs": [],
   "source": []
  }
 ],
 "metadata": {
  "kernelspec": {
   "display_name": "base",
   "language": "python",
   "name": "python3"
  },
  "language_info": {
   "codemirror_mode": {
    "name": "ipython",
    "version": 3
   },
   "file_extension": ".py",
   "mimetype": "text/x-python",
   "name": "python",
   "nbconvert_exporter": "python",
   "pygments_lexer": "ipython3",
   "version": "3.11.3"
  }
 },
 "nbformat": 4,
 "nbformat_minor": 2
}
