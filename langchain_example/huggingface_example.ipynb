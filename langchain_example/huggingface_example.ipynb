{
 "cells": [
  {
   "cell_type": "code",
   "execution_count": null,
   "metadata": {},
   "outputs": [],
   "source": [
    "# # 필요한 라이브러리 설치\n",
    "# !pip install langchain\n",
    "# !pip install huggingface_hub transformers datasets\n",
    "# !pip install python-dotenv\n",
    "# !pip install pypdf\n",
    "# !pip install sentence-transformers\n",
    "# !pip install chromadb\n",
    "# pdf2docx, docx2pdf, docx2txt"
   ]
  },
  {
   "cell_type": "code",
   "execution_count": null,
   "metadata": {},
   "outputs": [],
   "source": [
    "from langchain_community.llms import HuggingFaceEndpoint\n",
    "from huggingface_hub import login\n",
    "from dotenv import load_dotenv\n",
    "import os\n",
    "\n",
    "# API KEY 정보로드\n",
    "load_dotenv()\n",
    "os.getenv('HUGGINGFACEHUB_API_TOKEN')\n",
    "\n",
    "# login()"
   ]
  },
  {
   "cell_type": "code",
   "execution_count": null,
   "metadata": {},
   "outputs": [],
   "source": [
    "os.environ['HUGGINGFACEHUB_API_TOKEN']"
   ]
  },
  {
   "cell_type": "code",
   "execution_count": 3,
   "metadata": {},
   "outputs": [],
   "source": [
    "# 허깅페이스 LLM Read Key\n",
    "# HUGGINGFACEHUB_API_TOKEN = os.environ['HUGGINGFACEHUB_API_TOKEN']"
   ]
  },
  {
   "cell_type": "code",
   "execution_count": 29,
   "metadata": {},
   "outputs": [
    {
     "name": "stdout",
     "output_type": "stream",
     "text": [
      "Token has not been saved to git credential helper. Pass `add_to_git_credential=True` if you want to set the git credential as well.\n",
      "Token is valid (permission: read).\n",
      "Your token has been saved to C:\\Users\\chan\\.cache\\huggingface\\token\n",
      "Login successful\n",
      "안녕하세요! 한국에는 다양한 관광지가 있어 선택하기가 어렵습니다. 하지만 저는 다음과 같은 5곳을 추천해 드립니다.\n",
      "\n",
      "1. 서울: 한국의 首都로, 역사와 현대가 어우러진 도시입니다. 광장, 팔각정, 경복궁, 인사동, 명동 등 유명한 관광지가 많이 있으며, 맛있는 음식도 많이 있습니다.\n",
      "\n",
      "2. 부산: 한국 남동쪽에 있는 대도시로, 해양과 산악이 어우러진 도시입니다. 해운대해수욕장, 광안리해수욕장, 양동포, 아� stim 등 유명한 관광지가 있으며, 해산물 음식이 맛있습니다.\n",
      "\n",
      "3. 제주도: 한국 남서쪽에 있는 섬으로, 자연과 역사가 어우러진 도시입니다. 서측 해안, 성산일출봉, 제주 오름, 제주 애월 해수욕장, 제주 국립공원 등 유명한 관광지가 있으며, 대나무숲과 자연 풍경이 아름답습니다.\n",
      "\n",
      "4. 경주: 한국 동북쪽에 있는 대도시로, 역사와 문화가 풍부한 도시입니다. 경주 고분, 안동 고분, 경주 성, 경주 황녀{'question': '한국에서 갈 만한 곳 5곳 추천해줘', 'text': '안녕하세요! 한국에는 다양한 관광지가 있어 선택하기가 어렵습니다. 하지만 저는 다음과 같은 5곳을 추천해 드립니다.\\n\\n1. 서울: 한국의 首都로, 역사와 현대가 어우러진 도시입니다. 광장, 팔각정, 경복궁, 인사동, 명동 등 유명한 관광지가 많이 있으며, 맛있는 음식도 많이 있습니다.\\n\\n2. 부산: 한국 남동쪽에 있는 대도시로, 해양과 산악이 어우러진 도시입니다. 해운대해수욕장, 광안리해수욕장, 양동포, 아� stim 등 유명한 관광지가 있으며, 해산물 음식이 맛있습니다.\\n\\n3. 제주도: 한국 남서쪽에 있는 섬으로, 자연과 역사가 어우러진 도시입니다. 서측 해안, 성산일출봉, 제주 오름, 제주 애월 해수욕장, 제주 국립공원 등 유명한 관광지가 있으며, 대나무숲과 자연 풍경이 아름답습니다.\\n\\n4. 경주: 한국 동북쪽에 있는 대도시로, 역사와 문화가 풍부한 도시입니다. 경주 고분, 안동 고분, 경주 성, 경주 황녀'}\n"
     ]
    }
   ],
   "source": [
    "from langchain import LLMChain\n",
    "from langchain.prompts import PromptTemplate\n",
    "from langchain.chains import LLMChain\n",
    "from langchain.callbacks.streaming_stdout import StreamingStdOutCallbackHandler\n",
    "\n",
    "template = \"\"\"질문에 대한 답을 해줘\n",
    "QUESTION: {question}\n",
    "\n",
    "ANSWER: \"\"\"\n",
    "\n",
    "prompt = PromptTemplate.from_template(template)\n",
    "\n",
    "\n",
    "repo_id = \"mistralai/Mixtral-8x7B-Instruct-v0.1\"\n",
    "# repo_id = \"chihoonlee10/T3Q-ko-solar-dpo-v1.0\"\n",
    "# repo_id = \"google/gemma-7b\"\n",
    "\n",
    "llm = HuggingFaceEndpoint(\n",
    "    repo_id=repo_id,  \n",
    "    # max_new_tokens=256,  # 생성할 최대 토큰 길이\n",
    "    temperature=0.1,  # 샘플링 온도를 설정, 값이 높을수록 더 다양한 출력을 생성\n",
    "    callbacks=[StreamingStdOutCallbackHandler()], \n",
    "    streaming=True, \n",
    ")\n",
    "\n",
    "\n",
    "llm_chain = LLMChain(prompt=prompt, llm=llm)\n",
    "response = llm_chain.invoke(\n",
    "    {\"question\": \"한국에서 갈 만한 곳 5곳 추천해줘\"}\n",
    ")\n",
    "print(response)"
   ]
  },
  {
   "cell_type": "code",
   "execution_count": null,
   "metadata": {},
   "outputs": [],
   "source": [
    "# HuggingFace Repository ID\n",
    "repo_id = 'google/flan-t5-xxl'\n",
    "\n",
    "# 질의내용\n",
    "question = \"who is Son Heung Min?\"\n",
    "\n",
    "# 템플릿\n",
    "template = \"\"\"Question: {question}\n",
    "\n",
    "Answer: \"\"\"\n",
    "\n",
    "# 프롬프트 템플릿 생성\n",
    "prompt = PromptTemplate(template=template, input_variables=[\"question\"])\n",
    "\n",
    "# HuggingFaceHub 객체 생성\n",
    "llm = HuggingFaceEndpoint(\n",
    "    repo_id=repo_id, temperature=0.2,\n",
    "    model_kwargs={\"max_length\": 512}\n",
    ")\n",
    "\n",
    "# LLM Chain 객체 생성\n",
    "llm_chain = LLMChain(prompt=prompt, llm=llm)\n",
    "\n",
    "# 실행\n",
    "print(llm_chain.run(question=question))"
   ]
  },
  {
   "cell_type": "code",
   "execution_count": null,
   "metadata": {},
   "outputs": [],
   "source": [
    "# import os\n",
    "\n",
    "# # 허깅페이스 모델/토크나이저를 다운로드 받을 경로\n",
    "# # (예시)\n",
    "# # os.environ['HF_HOME'] = '/home/jovyan/work/tmp'\n",
    "# os.environ['HF_HOME'] = 'LLM 모델을 다운로드 받을 경로'"
   ]
  },
  {
   "cell_type": "code",
   "execution_count": null,
   "metadata": {},
   "outputs": [],
   "source": [
    "# from langchain import LLMChain\n",
    "# from langchain.prompts import PromptTemplate\n",
    "# from langchain.llms import HuggingFacePipeline\n",
    "\n",
    "# # HuggingFace Model ID\n",
    "# model_id = 'beomi/llama-2-ko-7b'\n",
    "\n",
    "# # HuggingFacePipeline 객체 생성\n",
    "# llm = HuggingFacePipeline.from_model_id(\n",
    "#     model_id=model_id, \n",
    "#     device=0,               # -1: CPU(default), 0번 부터는 CUDA 디바이스 번호 지정시 GPU 사용하여 추론\n",
    "#     task=\"text-generation\", # 텍스트 생성\n",
    "#     model_kwargs={\"temperature\": 0.1, \n",
    "#                   \"max_length\": 64},\n",
    "# )\n",
    "\n",
    "# # 템플릿\n",
    "# template = \"\"\"질문: {question}\n",
    "\n",
    "# 답변: \"\"\"\n",
    "\n",
    "# # 프롬프트 템플릿 생성\n",
    "# prompt = PromptTemplate.from_template(template)\n",
    "\n",
    "# # LLM Chain 객체 생성\n",
    "# llm_chain = LLMChain(prompt=prompt, llm=llm)"
   ]
  },
  {
   "cell_type": "code",
   "execution_count": null,
   "metadata": {},
   "outputs": [],
   "source": [
    "# # 실행\n",
    "# question = \"대한민국의 수도는 어디야?\"\n",
    "# print(llm_chain.run(question=question))"
   ]
  },
  {
   "cell_type": "code",
   "execution_count": null,
   "metadata": {},
   "outputs": [],
   "source": [
    "# # 실행\n",
    "# question = \"캐나다의 수도와 대한민국의 수도까지의 거리는 어떻게 돼?\"\n",
    "# print(llm_chain.run(question=question))"
   ]
  }
 ],
 "metadata": {
  "kernelspec": {
   "display_name": "base",
   "language": "python",
   "name": "python3"
  },
  "language_info": {
   "codemirror_mode": {
    "name": "ipython",
    "version": 3
   },
   "file_extension": ".py",
   "mimetype": "text/x-python",
   "name": "python",
   "nbconvert_exporter": "python",
   "pygments_lexer": "ipython3",
   "version": "3.11.3"
  }
 },
 "nbformat": 4,
 "nbformat_minor": 2
}
